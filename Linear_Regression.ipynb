{
  "nbformat": 4,
  "nbformat_minor": 0,
  "metadata": {
    "colab": {
      "provenance": [],
      "authorship_tag": "ABX9TyOML9J8UWDtwLB9JW+xYbB8",
      "include_colab_link": true
    },
    "kernelspec": {
      "name": "python3",
      "display_name": "Python 3"
    },
    "language_info": {
      "name": "python"
    }
  },
  "cells": [
    {
      "cell_type": "markdown",
      "metadata": {
        "id": "view-in-github",
        "colab_type": "text"
      },
      "source": [
        "<a href=\"https://colab.research.google.com/github/jieunlim/TensorflowTest2022/blob/main/Linear_Regression.ipynb\" target=\"_parent\"><img src=\"https://colab.research.google.com/assets/colab-badge.svg\" alt=\"Open In Colab\"/></a>"
      ]
    },
    {
      "cell_type": "code",
      "execution_count": 1,
      "metadata": {
        "id": "XPsL_S3H7iTH"
      },
      "outputs": [],
      "source": [
        "import tensorflow.compat.v1 as tf\n",
        "import pandas as pd\n",
        "tf.disable_eager_execution()\n",
        "W = tf.Variable(tf.zeros([2, 1]), name=\"weights\")\n",
        "b = tf.Variable(0., name=\"bias\")"
      ]
    },
    {
      "cell_type": "code",
      "source": [
        "# Computing our model in a series of mathematical operations that we apply to our data:\n",
        "def inference(X):\n",
        "    return tf.matmul(X, W) + b"
      ],
      "metadata": {
        "id": "PPZaSGsS7rPr"
      },
      "execution_count": 3,
      "outputs": []
    },
    {
      "cell_type": "code",
      "source": [
        "# Calculate loss over expected output:\n",
        "def loss(X, Y):\n",
        "    Y_predicted = tf.transpose(inference(X))\n",
        "    return tf.reduce_sum(tf.squared_difference(Y, Y_predicted))"
      ],
      "metadata": {
        "id": "KmzleQ0d7wyL"
      },
      "execution_count": 4,
      "outputs": []
    },
    {
      "cell_type": "code",
      "source": [
        "# Read input training data:\n",
        "def inputs():\n",
        "    weight_age = []\n",
        "    blood_fat  = []\n",
        "    data = pd.read_csv('blood_fat_data.csv')\n",
        "    data.head(1)                # reads the first line\n",
        "    rows = len(data)            # counts the number of rows in the file\n",
        "    shape = data.shape          # shows the shape\n",
        "    columns = (data.columns)    # shows the column titles\n",
        "    weight = data[columns[0]]   # write entire column\n",
        "    age = data[columns[1]]      # write entire column\n",
        "    blood_fat_content = data[columns[2]]    # write entire column\n",
        "    for k in range(rows):       # use loop to put it in the expected format\n",
        "        weight_age.append([weight[k], age[k]])\n",
        "        blood_fat.append(blood_fat_content[k],)\n",
        "    return tf.to_float(weight_age), tf.to_float(blood_fat)"
      ],
      "metadata": {
        "id": "ftRPf4nR71Jj"
      },
      "execution_count": 5,
      "outputs": []
    },
    {
      "cell_type": "code",
      "source": [
        "# Using training, we adjust the model parameters:\n",
        "def train(total_loss):\n",
        "    learning_rate = 0.000001 # try: 0.000006\n",
        "    return tf.train.GradientDescentOptimizer(learning_rate).minimize(total_loss)"
      ],
      "metadata": {
        "id": "jJ5AexRi7237"
      },
      "execution_count": 6,
      "outputs": []
    },
    {
      "cell_type": "code",
      "source": [
        "# We evaluate the resulting model:\n",
        "def evaluate(sess, X, Y):\n",
        "    print(sess.run(inference([[55., 40.]]))) # ~ 295 (but it is 303)\n",
        "    print(sess.run(inference([[50., 70.]]))) # ~ 256 (other values not in table)\n",
        "    print(sess.run(inference([[90., 20.]]))) # ~ 303 ( ... )\n",
        "    print(sess.run(inference([[90., 70.]]))) # ~ 256 ( ... )"
      ],
      "metadata": {
        "id": "Ky8FwmWw74Ij"
      },
      "execution_count": 7,
      "outputs": []
    },
    {
      "cell_type": "code",
      "source": [
        "# Launch the graph in a session and run the training loop:\n",
        "with tf.Session() as sess:\n",
        "    tf.global_variables_initializer().run()\n",
        "    X, Y = inputs()\n",
        "    total_loss = loss(X, Y)\n",
        "    train_op = train(total_loss)\n",
        "     # Actual training loop:\n",
        "    training_steps = 10000 # try: 50000\n",
        "    for step in range(training_steps):\n",
        "        sess.run([train_op])\n",
        "        # See how the loss gets decremented thru training steps:\n",
        "        if step % 1000 == 0:\n",
        "            print(\"Epoch:\", step, \" loss: \", sess.run(total_loss))\n",
        "    print(\"Final model W=\", sess.run(W), \"b=\", sess.run(b))\n",
        "    evaluate(sess, X, Y)\n",
        "    sess.close()"
      ],
      "metadata": {
        "colab": {
          "base_uri": "https://localhost:8080/"
        },
        "id": "jziXftPc75v7",
        "outputId": "cd84e92e-f341-4205-e50f-7064c8a38ca3"
      },
      "execution_count": 16,
      "outputs": [
        {
          "output_type": "stream",
          "name": "stdout",
          "text": [
            "Epoch: 0  loss:  1230281.8\n",
            "Epoch: 1000  loss:  47094.402\n",
            "Epoch: 2000  loss:  47081.83\n",
            "Epoch: 3000  loss:  47069.75\n",
            "Epoch: 4000  loss:  47057.688\n",
            "Epoch: 5000  loss:  47045.66\n",
            "Epoch: 6000  loss:  47033.69\n",
            "Epoch: 7000  loss:  47021.74\n",
            "Epoch: 8000  loss:  47009.824\n",
            "Epoch: 9000  loss:  46997.938\n",
            "Final model W= [[1.2922349]\n",
            " [5.5893784]] b= 1.1374356\n",
            "[[295.7855]]\n",
            "[[457.00565]]\n",
            "[[229.22615]]\n",
            "[[508.69504]]\n"
          ]
        }
      ]
    }
  ]
}